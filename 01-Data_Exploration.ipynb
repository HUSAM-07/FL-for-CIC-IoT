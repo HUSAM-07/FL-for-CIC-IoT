{
 "cells": [
  {
   "cell_type": "markdown",
   "metadata": {},
   "source": [
    "# 01 - Explore the CICIoT2023 dataset"
   ]
  },
  {
   "cell_type": "markdown",
   "metadata": {},
   "source": [
    "Imports"
   ]
  },
  {
   "cell_type": "code",
   "execution_count": 1,
   "metadata": {},
   "outputs": [],
   "source": [
    "import pandas as pd\n",
    "import numpy as np\n",
    "import os\n",
    "from tqdm import tqdm"
   ]
  },
  {
   "cell_type": "code",
   "execution_count": 2,
   "metadata": {},
   "outputs": [],
   "source": [
    "DATASET_DIRECTORY = 'datasets/'"
   ]
  },
  {
   "cell_type": "markdown",
   "metadata": {},
   "source": [
    "Import the Dataset"
   ]
  },
  {
   "cell_type": "code",
   "execution_count": 7,
   "metadata": {},
   "outputs": [],
   "source": [
    "# Find all CSV files in the dataset directory and sort them\n",
    "df_sets = [k for k in os.listdir(DATASET_DIRECTORY) if k.endswith('.csv')]\n",
    "df_sets.sort()\n",
    "\n",
    "# Split the dataset into training and test sets. 80% training, 20% test\n",
    "training_sets = df_sets[:int(len(df_sets)*.8)]\n",
    "test_sets = df_sets[int(len(df_sets)*.8):]"
   ]
  },
  {
   "cell_type": "markdown",
   "metadata": {},
   "source": [
    "Examine file counts and size"
   ]
  },
  {
   "cell_type": "code",
   "execution_count": 8,
   "metadata": {},
   "outputs": [
    {
     "name": "stdout",
     "output_type": "stream",
     "text": [
      "Training sets: 125\n",
      "Test sets: 32\n"
     ]
    }
   ],
   "source": [
    "# Print the number of files in each set\n",
    "print('Training sets: {}'.format(len(training_sets)))\n",
    "print('Test sets: {}'.format(len(test_sets)))"
   ]
  },
  {
   "cell_type": "code",
   "execution_count": 9,
   "metadata": {},
   "outputs": [
    {
     "name": "stdout",
     "output_type": "stream",
     "text": [
      "Min file size: 62.41 MB\n",
      "Max file size: 132.99 MB\n",
      "Avg file size: 82.28 MB\n"
     ]
    }
   ],
   "source": [
    "# Show the min, max and average file size. Output size in MB\n",
    "print('Min file size: {} MB'.format(round(min([os.path.getsize(DATASET_DIRECTORY + k) for k in df_sets]) / 1000000, 2)))\n",
    "print('Max file size: {} MB'.format(round(max([os.path.getsize(DATASET_DIRECTORY + k) for k in df_sets]) / 1000000, 2)))\n",
    "print('Avg file size: {} MB'.format(round(np.mean([os.path.getsize(DATASET_DIRECTORY + k) for k in df_sets]) / 1000000, 2)))"
   ]
  },
  {
   "cell_type": "code",
   "execution_count": 10,
   "metadata": {},
   "outputs": [
    {
     "name": "stdout",
     "output_type": "stream",
     "text": [
      "Rows: 444704\n",
      "Columns: 47\n"
     ]
    },
    {
     "data": {
      "text/html": [
       "<div>\n",
       "<style scoped>\n",
       "    .dataframe tbody tr th:only-of-type {\n",
       "        vertical-align: middle;\n",
       "    }\n",
       "\n",
       "    .dataframe tbody tr th {\n",
       "        vertical-align: top;\n",
       "    }\n",
       "\n",
       "    .dataframe thead th {\n",
       "        text-align: right;\n",
       "    }\n",
       "</style>\n",
       "<table border=\"1\" class=\"dataframe\">\n",
       "  <thead>\n",
       "    <tr style=\"text-align: right;\">\n",
       "      <th></th>\n",
       "      <th>flow_duration</th>\n",
       "      <th>Header_Length</th>\n",
       "      <th>Protocol Type</th>\n",
       "      <th>Duration</th>\n",
       "      <th>Rate</th>\n",
       "      <th>Srate</th>\n",
       "      <th>Drate</th>\n",
       "      <th>fin_flag_number</th>\n",
       "      <th>syn_flag_number</th>\n",
       "      <th>rst_flag_number</th>\n",
       "      <th>...</th>\n",
       "      <th>Std</th>\n",
       "      <th>Tot size</th>\n",
       "      <th>IAT</th>\n",
       "      <th>Number</th>\n",
       "      <th>Magnitue</th>\n",
       "      <th>Radius</th>\n",
       "      <th>Covariance</th>\n",
       "      <th>Variance</th>\n",
       "      <th>Weight</th>\n",
       "      <th>label</th>\n",
       "    </tr>\n",
       "  </thead>\n",
       "  <tbody>\n",
       "    <tr>\n",
       "      <th>0</th>\n",
       "      <td>0.025926</td>\n",
       "      <td>56.06</td>\n",
       "      <td>6.00</td>\n",
       "      <td>63.82</td>\n",
       "      <td>3.528480</td>\n",
       "      <td>3.528480</td>\n",
       "      <td>0.0</td>\n",
       "      <td>0.0</td>\n",
       "      <td>1.0</td>\n",
       "      <td>0.0</td>\n",
       "      <td>...</td>\n",
       "      <td>0.496995</td>\n",
       "      <td>54.20</td>\n",
       "      <td>8.298108e+07</td>\n",
       "      <td>9.5</td>\n",
       "      <td>10.405144</td>\n",
       "      <td>0.704371</td>\n",
       "      <td>2.498950</td>\n",
       "      <td>0.10</td>\n",
       "      <td>141.55</td>\n",
       "      <td>DoS-SYN_Flood</td>\n",
       "    </tr>\n",
       "    <tr>\n",
       "      <th>1</th>\n",
       "      <td>0.000000</td>\n",
       "      <td>54.00</td>\n",
       "      <td>6.00</td>\n",
       "      <td>64.00</td>\n",
       "      <td>26.996367</td>\n",
       "      <td>26.996367</td>\n",
       "      <td>0.0</td>\n",
       "      <td>0.0</td>\n",
       "      <td>1.0</td>\n",
       "      <td>0.0</td>\n",
       "      <td>...</td>\n",
       "      <td>0.000000</td>\n",
       "      <td>54.00</td>\n",
       "      <td>8.308982e+07</td>\n",
       "      <td>9.5</td>\n",
       "      <td>10.392305</td>\n",
       "      <td>0.000000</td>\n",
       "      <td>0.000000</td>\n",
       "      <td>0.00</td>\n",
       "      <td>141.55</td>\n",
       "      <td>DDoS-SYN_Flood</td>\n",
       "    </tr>\n",
       "    <tr>\n",
       "      <th>2</th>\n",
       "      <td>0.000000</td>\n",
       "      <td>54.00</td>\n",
       "      <td>6.00</td>\n",
       "      <td>64.00</td>\n",
       "      <td>2.986424</td>\n",
       "      <td>2.986424</td>\n",
       "      <td>0.0</td>\n",
       "      <td>1.0</td>\n",
       "      <td>0.0</td>\n",
       "      <td>1.0</td>\n",
       "      <td>...</td>\n",
       "      <td>0.000000</td>\n",
       "      <td>54.00</td>\n",
       "      <td>8.334383e+07</td>\n",
       "      <td>9.5</td>\n",
       "      <td>10.392305</td>\n",
       "      <td>0.000000</td>\n",
       "      <td>0.000000</td>\n",
       "      <td>0.00</td>\n",
       "      <td>141.55</td>\n",
       "      <td>DDoS-RSTFINFlood</td>\n",
       "    </tr>\n",
       "    <tr>\n",
       "      <th>3</th>\n",
       "      <td>0.000000</td>\n",
       "      <td>53.46</td>\n",
       "      <td>5.94</td>\n",
       "      <td>63.36</td>\n",
       "      <td>66.531372</td>\n",
       "      <td>66.531372</td>\n",
       "      <td>0.0</td>\n",
       "      <td>0.0</td>\n",
       "      <td>1.0</td>\n",
       "      <td>0.0</td>\n",
       "      <td>...</td>\n",
       "      <td>0.131850</td>\n",
       "      <td>54.06</td>\n",
       "      <td>8.309404e+07</td>\n",
       "      <td>9.5</td>\n",
       "      <td>10.395650</td>\n",
       "      <td>0.186918</td>\n",
       "      <td>0.195153</td>\n",
       "      <td>0.09</td>\n",
       "      <td>141.55</td>\n",
       "      <td>DDoS-SYN_Flood</td>\n",
       "    </tr>\n",
       "    <tr>\n",
       "      <th>4</th>\n",
       "      <td>0.000000</td>\n",
       "      <td>81.00</td>\n",
       "      <td>6.00</td>\n",
       "      <td>64.00</td>\n",
       "      <td>10.473893</td>\n",
       "      <td>10.473893</td>\n",
       "      <td>0.0</td>\n",
       "      <td>0.0</td>\n",
       "      <td>0.0</td>\n",
       "      <td>0.0</td>\n",
       "      <td>...</td>\n",
       "      <td>0.000000</td>\n",
       "      <td>54.00</td>\n",
       "      <td>8.292583e+07</td>\n",
       "      <td>9.5</td>\n",
       "      <td>10.392305</td>\n",
       "      <td>0.000000</td>\n",
       "      <td>0.000000</td>\n",
       "      <td>0.00</td>\n",
       "      <td>141.55</td>\n",
       "      <td>DoS-TCP_Flood</td>\n",
       "    </tr>\n",
       "  </tbody>\n",
       "</table>\n",
       "<p>5 rows × 47 columns</p>\n",
       "</div>"
      ],
      "text/plain": [
       "   flow_duration  Header_Length  Protocol Type  Duration       Rate  \\\n",
       "0       0.025926          56.06           6.00     63.82   3.528480   \n",
       "1       0.000000          54.00           6.00     64.00  26.996367   \n",
       "2       0.000000          54.00           6.00     64.00   2.986424   \n",
       "3       0.000000          53.46           5.94     63.36  66.531372   \n",
       "4       0.000000          81.00           6.00     64.00  10.473893   \n",
       "\n",
       "       Srate  Drate  fin_flag_number  syn_flag_number  rst_flag_number  ...  \\\n",
       "0   3.528480    0.0              0.0              1.0              0.0  ...   \n",
       "1  26.996367    0.0              0.0              1.0              0.0  ...   \n",
       "2   2.986424    0.0              1.0              0.0              1.0  ...   \n",
       "3  66.531372    0.0              0.0              1.0              0.0  ...   \n",
       "4  10.473893    0.0              0.0              0.0              0.0  ...   \n",
       "\n",
       "        Std  Tot size           IAT  Number   Magnitue    Radius  Covariance  \\\n",
       "0  0.496995     54.20  8.298108e+07     9.5  10.405144  0.704371    2.498950   \n",
       "1  0.000000     54.00  8.308982e+07     9.5  10.392305  0.000000    0.000000   \n",
       "2  0.000000     54.00  8.334383e+07     9.5  10.392305  0.000000    0.000000   \n",
       "3  0.131850     54.06  8.309404e+07     9.5  10.395650  0.186918    0.195153   \n",
       "4  0.000000     54.00  8.292583e+07     9.5  10.392305  0.000000    0.000000   \n",
       "\n",
       "   Variance  Weight             label  \n",
       "0      0.10  141.55     DoS-SYN_Flood  \n",
       "1      0.00  141.55    DDoS-SYN_Flood  \n",
       "2      0.00  141.55  DDoS-RSTFINFlood  \n",
       "3      0.09  141.55    DDoS-SYN_Flood  \n",
       "4      0.00  141.55     DoS-TCP_Flood  \n",
       "\n",
       "[5 rows x 47 columns]"
      ]
     },
     "execution_count": 10,
     "metadata": {},
     "output_type": "execute_result"
    }
   ],
   "source": [
    "# Read the last csv from training sets into a dataframe\n",
    "df = pd.read_csv(DATASET_DIRECTORY + training_sets[-1])\n",
    "\n",
    "\n",
    "# Print the number of rows and columns in the dataframe\n",
    "print('Rows: {}'.format(df.shape[0]))\n",
    "print('Columns: {}'.format(df.shape[1]))\n",
    "\n",
    "# Print the first 5 rows of the dataframe\n",
    "df.head()"
   ]
  },
  {
   "cell_type": "markdown",
   "metadata": {},
   "source": [
    "Columns used in the paper"
   ]
  },
  {
   "cell_type": "code",
   "execution_count": 3,
   "metadata": {},
   "outputs": [],
   "source": [
    "X_columns = [\n",
    "    'flow_duration', 'Header_Length', 'Protocol Type', 'Duration',\n",
    "       'Rate', 'Srate', 'Drate', 'fin_flag_number', 'syn_flag_number',\n",
    "       'rst_flag_number', 'psh_flag_number', 'ack_flag_number',\n",
    "       'ece_flag_number', 'cwr_flag_number', 'ack_count',\n",
    "       'syn_count', 'fin_count', 'urg_count', 'rst_count', \n",
    "    'HTTP', 'HTTPS', 'DNS', 'Telnet', 'SMTP', 'SSH', 'IRC', 'TCP',\n",
    "       'UDP', 'DHCP', 'ARP', 'ICMP', 'IPv', 'LLC', 'Tot sum', 'Min',\n",
    "       'Max', 'AVG', 'Std', 'Tot size', 'IAT', 'Number', 'Magnitue',\n",
    "       'Radius', 'Covariance', 'Variance', 'Weight', \n",
    "]\n",
    "y_column = 'label'"
   ]
  },
  {
   "cell_type": "code",
   "execution_count": 4,
   "metadata": {},
   "outputs": [
    {
     "name": "stdout",
     "output_type": "stream",
     "text": [
      "X_columns: 46\n",
      "y_column: label\n"
     ]
    }
   ],
   "source": [
    "# Show the number of X_columns and y_column\n",
    "print('X_columns: {}'.format(len(X_columns)))\n",
    "print('y_column: {}'.format(y_column))"
   ]
  },
  {
   "cell_type": "code",
   "execution_count": 5,
   "metadata": {},
   "outputs": [
    {
     "ename": "NameError",
     "evalue": "name 'df' is not defined",
     "output_type": "error",
     "traceback": [
      "\u001b[1;31m---------------------------------------------------------------------------\u001b[0m",
      "\u001b[1;31mNameError\u001b[0m                                 Traceback (most recent call last)",
      "Cell \u001b[1;32mIn[5], line 2\u001b[0m\n\u001b[0;32m      1\u001b[0m \u001b[38;5;66;03m# Show the number of unique values in the y_column\u001b[39;00m\n\u001b[1;32m----> 2\u001b[0m \u001b[38;5;28mprint\u001b[39m(\u001b[38;5;124m'\u001b[39m\u001b[38;5;124mUnique values in y_column: \u001b[39m\u001b[38;5;132;01m{}\u001b[39;00m\u001b[38;5;124m'\u001b[39m\u001b[38;5;241m.\u001b[39mformat(\u001b[38;5;28mlen\u001b[39m(\u001b[43mdf\u001b[49m[y_column]\u001b[38;5;241m.\u001b[39munique())))\n\u001b[0;32m      4\u001b[0m \u001b[38;5;66;03m# Print them out\u001b[39;00m\n\u001b[0;32m      5\u001b[0m \u001b[38;5;28mprint\u001b[39m(df[y_column]\u001b[38;5;241m.\u001b[39munique())\n",
      "\u001b[1;31mNameError\u001b[0m: name 'df' is not defined"
     ]
    }
   ],
   "source": [
    "# Show the number of unique values in the y_column\n",
    "print('Unique values in y_column: {}'.format(len(df[y_column].unique())))\n",
    "\n",
    "# Print them out\n",
    "print(df[y_column].unique())\n",
    "\n",
    "# Save them as attack_labels\n",
    "attack_labels = df[y_column].unique()\n"
   ]
  },
  {
   "cell_type": "code",
   "execution_count": 14,
   "metadata": {},
   "outputs": [
    {
     "name": "stdout",
     "output_type": "stream",
     "text": [
      "DoS-SYN_Flood: 19312\n",
      "DDoS-SYN_Flood: 38859\n",
      "DDoS-RSTFINFlood: 38401\n",
      "DoS-TCP_Flood: 25498\n",
      "DDoS-UDP_Flood: 51022\n",
      "DDoS-UDP_Fragmentation: 2669\n",
      "DDoS-SynonymousIP_Flood: 34362\n",
      "DDoS-ICMP_Flood: 68587\n",
      "Mirai-greeth_flood: 9502\n",
      "DDoS-PSHACK_Flood: 39323\n",
      "DDoS-TCP_Flood: 42872\n",
      "Mirai-greip_flood: 7174\n",
      "DDoS-SlowLoris: 199\n",
      "DoS-UDP_Flood: 31567\n",
      "Recon-HostDiscovery: 1272\n",
      "DDoS-ICMP_Fragmentation: 4331\n",
      "DDoS-ACK_Fragmentation: 2663\n",
      "BenignTraffic: 10463\n",
      "Mirai-udpplain: 8470\n",
      "DNS_Spoofing: 1681\n",
      "MITM-ArpSpoofing: 2920\n",
      "Recon-PortScan: 870\n",
      "Recon-OSScan: 970\n",
      "DoS-HTTP_Flood: 703\n",
      "DictionaryBruteForce: 129\n",
      "DDoS-HTTP_Flood: 267\n",
      "BrowserHijacking: 50\n",
      "VulnerabilityScan: 378\n",
      "SqlInjection: 41\n",
      "CommandInjection: 46\n",
      "Recon-PingSweep: 20\n",
      "XSS: 46\n",
      "Backdoor_Malware: 25\n",
      "Uploading_Attack: 12\n"
     ]
    }
   ],
   "source": [
    "# Count the number of rows for each attack label\n",
    "for label in attack_labels:\n",
    "    print('{}: {}'.format(label, df[df[y_column] == label].shape[0]))\n",
    "    "
   ]
  },
  {
   "cell_type": "code",
   "execution_count": 15,
   "metadata": {},
   "outputs": [],
   "source": [
    "# Creating a dictionary of attack types for 33 attack classes + 1 for benign traffic\n",
    "dict_34_classes = {'BenignTraffic': 0 ,\n",
    "                    'DDoS-RSTFINFlood' :1, 'DDoS-PSHACK_Flood':2,  'DDoS-SYN_Flood':3, 'DDoS-UDP_Flood':4, 'DDoS-TCP_Flood':5, \n",
    "                    'DDoS-ICMP_Flood':6, 'DDoS-SynonymousIP_Flood':7, 'DDoS-ACK_Fragmentation':8, 'DDoS-UDP_Fragmentation':9, 'DDoS-ICMP_Fragmentation':10, \n",
    "                    'DDoS-SlowLoris':11, 'DDoS-HTTP_Flood':12, 'DoS-UDP_Flood':13, 'DoS-SYN_Flood':14, 'DoS-TCP_Flood':15, 'DoS-HTTP_Flood':16,                 # DDoS and DoS\n",
    "                    'Mirai-greeth_flood': 17, 'Mirai-greip_flood': 18, 'Mirai-udpplain': 19,                                                                    # Mirai \n",
    "                    'Recon-PingSweep': 20, 'Recon-OSScan': 21, 'Recon-PortScan': 22, 'VulnerabilityScan': 23, 'Recon-HostDiscovery': 24,                        # Reconnaissance\n",
    "                    'DNS_Spoofing': 25, 'MITM-ArpSpoofing': 26,                                                                                                 # Spoofing\n",
    "                    'BrowserHijacking': 27, 'Backdoor_Malware': 28, 'XSS': 29, 'Uploading_Attack': 30, 'SqlInjection': 31, 'CommandInjection': 32,              # Web\n",
    "                    'DictionaryBruteForce': 33}                                                                                                                 # Brute Force \n",
    "\n",
    "dict_7_classes = {  0: 0 ,\n",
    "                    1 :1, 2:1,  3:1, 4:1, 5:1, 6:1, 7:1, 8:1, 9:1, 10:1, 11:1, 12:1, 13:1, 14:1, 15:1, 16:1,                                                    # DDoS and DoS                    \n",
    "                    17: 2, 18: 2, 19: 2,                                                                                                                        # Mirai\n",
    "                    20: 3, 21: 3, 22: 3, 23: 3, 24: 3,                                                                                                          # Reconnaissance\n",
    "                    25: 4, 26: 4,                                                                                                                               # Spoofing\n",
    "                    27: 5, 28: 5, 29: 5, 30: 5, 31: 5, 32: 5,                                                                                                   # Web\n",
    "                    33: 6}                                                                                                                                      # Brute Force\n",
    "\n",
    "dict_2_classes = {  0: 0 ,\n",
    "                    1 :1, 2:1,  3:1, 4:1, 5:1, 6:1, 7:1, 8:1, 9:1, 10:1, 11:1, 12:1, 13:1, 14:1, 15:1, 16:1,                                                    # DDoS and DoS  \n",
    "                    17: 1, 18: 1, 19: 1,                                                                                                                        # Mirai \n",
    "                    20: 1, 21: 1, 22: 1, 23: 1, 24: 1,                                                                                                          # Reconnaissance\n",
    "                    25: 1, 26: 1,                                                                                                                               # Spoofing\n",
    "                    27: 1, 28: 1, 29: 1, 30: 1, 31: 1, 32: 1,                                                                                                   # Web\n",
    "                    33: 1}                                                                                                                                      # Brute Force\n",
    "\n",
    "# Map y column to the dict_34_classes values\n",
    "df['label'] = df['label'].map(dict_34_classes)\n"
   ]
  },
  {
   "cell_type": "code",
   "execution_count": 16,
   "metadata": {},
   "outputs": [
    {
     "data": {
      "text/plain": [
       "0    14\n",
       "1     3\n",
       "2     1\n",
       "3     3\n",
       "4    15\n",
       "5     4\n",
       "6    15\n",
       "7     9\n",
       "8     7\n",
       "9     7\n",
       "Name: label, dtype: int64"
      ]
     },
     "execution_count": 16,
     "metadata": {},
     "output_type": "execute_result"
    }
   ],
   "source": [
    "# show first 10 rows of y column\n",
    "df[y_column].head(10)\n"
   ]
  },
  {
   "cell_type": "code",
   "execution_count": 17,
   "metadata": {},
   "outputs": [
    {
     "name": "stdout",
     "output_type": "stream",
     "text": [
      "6     68587\n",
      "4     51022\n",
      "5     42872\n",
      "2     39323\n",
      "3     38859\n",
      "1     38401\n",
      "7     34362\n",
      "13    31567\n",
      "15    25498\n",
      "14    19312\n",
      "0     10463\n",
      "17     9502\n",
      "19     8470\n",
      "18     7174\n",
      "10     4331\n",
      "26     2920\n",
      "9      2669\n",
      "8      2663\n",
      "25     1681\n",
      "24     1272\n",
      "21      970\n",
      "22      870\n",
      "16      703\n",
      "23      378\n",
      "12      267\n",
      "11      199\n",
      "33      129\n",
      "27       50\n",
      "32       46\n",
      "29       46\n",
      "31       41\n",
      "28       25\n",
      "20       20\n",
      "30       12\n",
      "Name: label, dtype: int64\n",
      "Unique values in y_column: 34\n"
     ]
    }
   ],
   "source": [
    "# show the unique values in the y column and their counts\n",
    "print(df[y_column].value_counts())\n",
    "\n",
    "# Count how many different unique values are in y column\n",
    "print('Unique values in y_column: {}'.format(len(df[y_column].unique())))"
   ]
  },
  {
   "cell_type": "code",
   "execution_count": 18,
   "metadata": {},
   "outputs": [
    {
     "name": "stdout",
     "output_type": "stream",
     "text": [
      "1    400635\n",
      "2     25146\n",
      "0     10463\n",
      "4      4601\n",
      "3      3510\n",
      "5       220\n",
      "6       129\n",
      "Name: label, dtype: int64\n"
     ]
    }
   ],
   "source": [
    "# Further map the y_column to the dict_7_classes values\n",
    "df['label'] = df['label'].map(dict_7_classes)\n",
    "\n",
    "# Show the first 10 rows of the y column\n",
    "df[y_column].head(10)\n",
    "\n",
    "# Show the unique values in the y column and their counts\n",
    "print(df[y_column].value_counts())\n"
   ]
  },
  {
   "cell_type": "code",
   "execution_count": null,
   "metadata": {},
   "outputs": [],
   "source": []
  }
 ],
 "metadata": {
  "kernelspec": {
   "display_name": "py310copy",
   "language": "python",
   "name": "python3"
  },
  "language_info": {
   "codemirror_mode": {
    "name": "ipython",
    "version": 3
   },
   "file_extension": ".py",
   "mimetype": "text/x-python",
   "name": "python",
   "nbconvert_exporter": "python",
   "pygments_lexer": "ipython3",
   "version": "3.10.4"
  },
  "orig_nbformat": 4
 },
 "nbformat": 4,
 "nbformat_minor": 2
}
